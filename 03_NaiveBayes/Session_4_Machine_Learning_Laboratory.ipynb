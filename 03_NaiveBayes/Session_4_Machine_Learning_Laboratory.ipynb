{
  "nbformat": 4,
  "nbformat_minor": 0,
  "metadata": {
    "colab": {
      "provenance": []
    },
    "kernelspec": {
      "name": "python3",
      "display_name": "Python 3"
    },
    "language_info": {
      "name": "python"
    }
  },
  "cells": [
    {
      "cell_type": "markdown",
      "source": [
        "# <font color='seablue'>**Naive Bayes Model**"
      ],
      "metadata": {
        "id": "bwAmBWa0u7AI"
      }
    },
    {
      "cell_type": "markdown",
      "source": [
        "### <font color='black'>**Learning Objectives**</font>\n",
        "1. Load and explore datasets using Pandas, focusing on detecting duplicates and missing values.\n",
        "2. Clean the dataset by removing duplicates and handling missing feature values.\n",
        "3. Preprocess data through feature scaling or standardization.\n",
        "4. Analyze the dataset for balance or imbalance.\n",
        "Split the dataset into training and test sets.\n",
        "5. Implement Naive Bayes from scratch for categorical data.\n",
        "6. Evaluate model performance using accuracy, precision, recall, confusion matrix, and AUPRC.\n",
        "8. Compare custom Naive Bayes implementation with Scikit-learn's CategoricalNB.\n",
        "\n"
      ],
      "metadata": {
        "id": "aiBEKJKxQs_J"
      }
    },
    {
      "cell_type": "code",
      "execution_count": null,
      "metadata": {
        "id": "q2LjJvlxvCRI"
      },
      "outputs": [],
      "source": [
        "# import required packages\n",
        "import pandas as pd\n",
        "import numpy as np\n",
        "import matplotlib.pyplot as plt\n",
        "from sklearn import preprocessing\n",
        "import seaborn as sns"
      ]
    },
    {
      "cell_type": "markdown",
      "source": [
        "###<font color='pink'>Load and Explore the dataset"
      ],
      "metadata": {
        "id": "ys6IXJ9BYANx"
      }
    },
    {
      "cell_type": "code",
      "source": [
        "# downloading the Car Evaluation dataset from UC Irvine Machine Learning Repository\n",
        "!wget -O dataset.zip https://archive.ics.uci.edu/static/public/19/car+evaluation.zip"
      ],
      "metadata": {
        "id": "xUf6rF20vW_i",
        "colab": {
          "base_uri": "https://localhost:8080/"
        },
        "outputId": "3099bda7-44ed-459a-db14-e5e9a5235bdf"
      },
      "execution_count": null,
      "outputs": [
        {
          "output_type": "stream",
          "name": "stdout",
          "text": [
            "--2025-08-11 12:59:40--  https://archive.ics.uci.edu/static/public/19/car+evaluation.zip\n",
            "Resolving archive.ics.uci.edu (archive.ics.uci.edu)... 128.195.10.252\n",
            "Connecting to archive.ics.uci.edu (archive.ics.uci.edu)|128.195.10.252|:443... connected.\n",
            "HTTP request sent, awaiting response... 200 OK\n",
            "Length: unspecified\n",
            "Saving to: ‘dataset.zip’\n",
            "\n",
            "dataset.zip             [ <=>                ]   6.19K  --.-KB/s    in 0s      \n",
            "\n",
            "2025-08-11 12:59:40 (81.6 MB/s) - ‘dataset.zip’ saved [6342]\n",
            "\n"
          ]
        }
      ]
    },
    {
      "cell_type": "code",
      "source": [
        "import zipfile\n",
        "\n",
        "# Specify the name of the zip file\n",
        "zip_file_path = 'dataset.zip'\n",
        "\n",
        "# Extract the zip file\n",
        "with zipfile.ZipFile(zip_file_path, 'r') as zip_ref:\n",
        "    zip_ref.extractall('extracted_dataset')  # Extract to a folder named 'extracted_dataset'"
      ],
      "metadata": {
        "id": "FumQOYxaG3XL"
      },
      "execution_count": null,
      "outputs": []
    },
    {
      "cell_type": "code",
      "source": [
        "# Specify the path to the extracted CSV file\n",
        "csv_file_path = 'extracted_dataset/car.data'  # Replace with the actual CSV file name\n",
        "\n",
        "# Read the CSV file into a pandas DataFrame\n",
        "df = pd.read_csv(csv_file_path)"
      ],
      "metadata": {
        "id": "5JKRbaAIHBJ1"
      },
      "execution_count": null,
      "outputs": []
    },
    {
      "cell_type": "code",
      "source": [
        "# getting keys of dataset stored as bunch type\n",
        "df.keys()"
      ],
      "metadata": {
        "colab": {
          "base_uri": "https://localhost:8080/"
        },
        "id": "jkmHPiHZzrxs",
        "outputId": "9bcb10f0-e782-422d-8770-6fd41901aaf4"
      },
      "execution_count": null,
      "outputs": [
        {
          "output_type": "execute_result",
          "data": {
            "text/plain": [
              "Index(['vhigh', 'vhigh.1', '2', '2.1', 'small', 'low', 'unacc'], dtype='object')"
            ]
          },
          "metadata": {},
          "execution_count": 6
        }
      ]
    },
    {
      "cell_type": "code",
      "source": [
        "df.head()"
      ],
      "metadata": {
        "colab": {
          "base_uri": "https://localhost:8080/",
          "height": 206
        },
        "id": "b7K7JsUuH-at",
        "outputId": "28b8e2cb-b27a-47b5-cccc-bf54580cf786"
      },
      "execution_count": null,
      "outputs": [
        {
          "output_type": "execute_result",
          "data": {
            "text/plain": [
              "   vhigh vhigh.1  2 2.1  small   low  unacc\n",
              "0  vhigh   vhigh  2   2  small   med  unacc\n",
              "1  vhigh   vhigh  2   2  small  high  unacc\n",
              "2  vhigh   vhigh  2   2    med   low  unacc\n",
              "3  vhigh   vhigh  2   2    med   med  unacc\n",
              "4  vhigh   vhigh  2   2    med  high  unacc"
            ],
            "text/html": [
              "\n",
              "  <div id=\"df-41772f4d-5678-42ea-b8a5-3d39d63e53ab\" class=\"colab-df-container\">\n",
              "    <div>\n",
              "<style scoped>\n",
              "    .dataframe tbody tr th:only-of-type {\n",
              "        vertical-align: middle;\n",
              "    }\n",
              "\n",
              "    .dataframe tbody tr th {\n",
              "        vertical-align: top;\n",
              "    }\n",
              "\n",
              "    .dataframe thead th {\n",
              "        text-align: right;\n",
              "    }\n",
              "</style>\n",
              "<table border=\"1\" class=\"dataframe\">\n",
              "  <thead>\n",
              "    <tr style=\"text-align: right;\">\n",
              "      <th></th>\n",
              "      <th>vhigh</th>\n",
              "      <th>vhigh.1</th>\n",
              "      <th>2</th>\n",
              "      <th>2.1</th>\n",
              "      <th>small</th>\n",
              "      <th>low</th>\n",
              "      <th>unacc</th>\n",
              "    </tr>\n",
              "  </thead>\n",
              "  <tbody>\n",
              "    <tr>\n",
              "      <th>0</th>\n",
              "      <td>vhigh</td>\n",
              "      <td>vhigh</td>\n",
              "      <td>2</td>\n",
              "      <td>2</td>\n",
              "      <td>small</td>\n",
              "      <td>med</td>\n",
              "      <td>unacc</td>\n",
              "    </tr>\n",
              "    <tr>\n",
              "      <th>1</th>\n",
              "      <td>vhigh</td>\n",
              "      <td>vhigh</td>\n",
              "      <td>2</td>\n",
              "      <td>2</td>\n",
              "      <td>small</td>\n",
              "      <td>high</td>\n",
              "      <td>unacc</td>\n",
              "    </tr>\n",
              "    <tr>\n",
              "      <th>2</th>\n",
              "      <td>vhigh</td>\n",
              "      <td>vhigh</td>\n",
              "      <td>2</td>\n",
              "      <td>2</td>\n",
              "      <td>med</td>\n",
              "      <td>low</td>\n",
              "      <td>unacc</td>\n",
              "    </tr>\n",
              "    <tr>\n",
              "      <th>3</th>\n",
              "      <td>vhigh</td>\n",
              "      <td>vhigh</td>\n",
              "      <td>2</td>\n",
              "      <td>2</td>\n",
              "      <td>med</td>\n",
              "      <td>med</td>\n",
              "      <td>unacc</td>\n",
              "    </tr>\n",
              "    <tr>\n",
              "      <th>4</th>\n",
              "      <td>vhigh</td>\n",
              "      <td>vhigh</td>\n",
              "      <td>2</td>\n",
              "      <td>2</td>\n",
              "      <td>med</td>\n",
              "      <td>high</td>\n",
              "      <td>unacc</td>\n",
              "    </tr>\n",
              "  </tbody>\n",
              "</table>\n",
              "</div>\n",
              "    <div class=\"colab-df-buttons\">\n",
              "\n",
              "  <div class=\"colab-df-container\">\n",
              "    <button class=\"colab-df-convert\" onclick=\"convertToInteractive('df-41772f4d-5678-42ea-b8a5-3d39d63e53ab')\"\n",
              "            title=\"Convert this dataframe to an interactive table.\"\n",
              "            style=\"display:none;\">\n",
              "\n",
              "  <svg xmlns=\"http://www.w3.org/2000/svg\" height=\"24px\" viewBox=\"0 -960 960 960\">\n",
              "    <path d=\"M120-120v-720h720v720H120Zm60-500h600v-160H180v160Zm220 220h160v-160H400v160Zm0 220h160v-160H400v160ZM180-400h160v-160H180v160Zm440 0h160v-160H620v160ZM180-180h160v-160H180v160Zm440 0h160v-160H620v160Z\"/>\n",
              "  </svg>\n",
              "    </button>\n",
              "\n",
              "  <style>\n",
              "    .colab-df-container {\n",
              "      display:flex;\n",
              "      gap: 12px;\n",
              "    }\n",
              "\n",
              "    .colab-df-convert {\n",
              "      background-color: #E8F0FE;\n",
              "      border: none;\n",
              "      border-radius: 50%;\n",
              "      cursor: pointer;\n",
              "      display: none;\n",
              "      fill: #1967D2;\n",
              "      height: 32px;\n",
              "      padding: 0 0 0 0;\n",
              "      width: 32px;\n",
              "    }\n",
              "\n",
              "    .colab-df-convert:hover {\n",
              "      background-color: #E2EBFA;\n",
              "      box-shadow: 0px 1px 2px rgba(60, 64, 67, 0.3), 0px 1px 3px 1px rgba(60, 64, 67, 0.15);\n",
              "      fill: #174EA6;\n",
              "    }\n",
              "\n",
              "    .colab-df-buttons div {\n",
              "      margin-bottom: 4px;\n",
              "    }\n",
              "\n",
              "    [theme=dark] .colab-df-convert {\n",
              "      background-color: #3B4455;\n",
              "      fill: #D2E3FC;\n",
              "    }\n",
              "\n",
              "    [theme=dark] .colab-df-convert:hover {\n",
              "      background-color: #434B5C;\n",
              "      box-shadow: 0px 1px 3px 1px rgba(0, 0, 0, 0.15);\n",
              "      filter: drop-shadow(0px 1px 2px rgba(0, 0, 0, 0.3));\n",
              "      fill: #FFFFFF;\n",
              "    }\n",
              "  </style>\n",
              "\n",
              "    <script>\n",
              "      const buttonEl =\n",
              "        document.querySelector('#df-41772f4d-5678-42ea-b8a5-3d39d63e53ab button.colab-df-convert');\n",
              "      buttonEl.style.display =\n",
              "        google.colab.kernel.accessAllowed ? 'block' : 'none';\n",
              "\n",
              "      async function convertToInteractive(key) {\n",
              "        const element = document.querySelector('#df-41772f4d-5678-42ea-b8a5-3d39d63e53ab');\n",
              "        const dataTable =\n",
              "          await google.colab.kernel.invokeFunction('convertToInteractive',\n",
              "                                                    [key], {});\n",
              "        if (!dataTable) return;\n",
              "\n",
              "        const docLinkHtml = 'Like what you see? Visit the ' +\n",
              "          '<a target=\"_blank\" href=https://colab.research.google.com/notebooks/data_table.ipynb>data table notebook</a>'\n",
              "          + ' to learn more about interactive tables.';\n",
              "        element.innerHTML = '';\n",
              "        dataTable['output_type'] = 'display_data';\n",
              "        await google.colab.output.renderOutput(dataTable, element);\n",
              "        const docLink = document.createElement('div');\n",
              "        docLink.innerHTML = docLinkHtml;\n",
              "        element.appendChild(docLink);\n",
              "      }\n",
              "    </script>\n",
              "  </div>\n",
              "\n",
              "\n",
              "    <div id=\"df-15d2837d-ebcd-4d1e-9243-b4f895d499b1\">\n",
              "      <button class=\"colab-df-quickchart\" onclick=\"quickchart('df-15d2837d-ebcd-4d1e-9243-b4f895d499b1')\"\n",
              "                title=\"Suggest charts\"\n",
              "                style=\"display:none;\">\n",
              "\n",
              "<svg xmlns=\"http://www.w3.org/2000/svg\" height=\"24px\"viewBox=\"0 0 24 24\"\n",
              "     width=\"24px\">\n",
              "    <g>\n",
              "        <path d=\"M19 3H5c-1.1 0-2 .9-2 2v14c0 1.1.9 2 2 2h14c1.1 0 2-.9 2-2V5c0-1.1-.9-2-2-2zM9 17H7v-7h2v7zm4 0h-2V7h2v10zm4 0h-2v-4h2v4z\"/>\n",
              "    </g>\n",
              "</svg>\n",
              "      </button>\n",
              "\n",
              "<style>\n",
              "  .colab-df-quickchart {\n",
              "      --bg-color: #E8F0FE;\n",
              "      --fill-color: #1967D2;\n",
              "      --hover-bg-color: #E2EBFA;\n",
              "      --hover-fill-color: #174EA6;\n",
              "      --disabled-fill-color: #AAA;\n",
              "      --disabled-bg-color: #DDD;\n",
              "  }\n",
              "\n",
              "  [theme=dark] .colab-df-quickchart {\n",
              "      --bg-color: #3B4455;\n",
              "      --fill-color: #D2E3FC;\n",
              "      --hover-bg-color: #434B5C;\n",
              "      --hover-fill-color: #FFFFFF;\n",
              "      --disabled-bg-color: #3B4455;\n",
              "      --disabled-fill-color: #666;\n",
              "  }\n",
              "\n",
              "  .colab-df-quickchart {\n",
              "    background-color: var(--bg-color);\n",
              "    border: none;\n",
              "    border-radius: 50%;\n",
              "    cursor: pointer;\n",
              "    display: none;\n",
              "    fill: var(--fill-color);\n",
              "    height: 32px;\n",
              "    padding: 0;\n",
              "    width: 32px;\n",
              "  }\n",
              "\n",
              "  .colab-df-quickchart:hover {\n",
              "    background-color: var(--hover-bg-color);\n",
              "    box-shadow: 0 1px 2px rgba(60, 64, 67, 0.3), 0 1px 3px 1px rgba(60, 64, 67, 0.15);\n",
              "    fill: var(--button-hover-fill-color);\n",
              "  }\n",
              "\n",
              "  .colab-df-quickchart-complete:disabled,\n",
              "  .colab-df-quickchart-complete:disabled:hover {\n",
              "    background-color: var(--disabled-bg-color);\n",
              "    fill: var(--disabled-fill-color);\n",
              "    box-shadow: none;\n",
              "  }\n",
              "\n",
              "  .colab-df-spinner {\n",
              "    border: 2px solid var(--fill-color);\n",
              "    border-color: transparent;\n",
              "    border-bottom-color: var(--fill-color);\n",
              "    animation:\n",
              "      spin 1s steps(1) infinite;\n",
              "  }\n",
              "\n",
              "  @keyframes spin {\n",
              "    0% {\n",
              "      border-color: transparent;\n",
              "      border-bottom-color: var(--fill-color);\n",
              "      border-left-color: var(--fill-color);\n",
              "    }\n",
              "    20% {\n",
              "      border-color: transparent;\n",
              "      border-left-color: var(--fill-color);\n",
              "      border-top-color: var(--fill-color);\n",
              "    }\n",
              "    30% {\n",
              "      border-color: transparent;\n",
              "      border-left-color: var(--fill-color);\n",
              "      border-top-color: var(--fill-color);\n",
              "      border-right-color: var(--fill-color);\n",
              "    }\n",
              "    40% {\n",
              "      border-color: transparent;\n",
              "      border-right-color: var(--fill-color);\n",
              "      border-top-color: var(--fill-color);\n",
              "    }\n",
              "    60% {\n",
              "      border-color: transparent;\n",
              "      border-right-color: var(--fill-color);\n",
              "    }\n",
              "    80% {\n",
              "      border-color: transparent;\n",
              "      border-right-color: var(--fill-color);\n",
              "      border-bottom-color: var(--fill-color);\n",
              "    }\n",
              "    90% {\n",
              "      border-color: transparent;\n",
              "      border-bottom-color: var(--fill-color);\n",
              "    }\n",
              "  }\n",
              "</style>\n",
              "\n",
              "      <script>\n",
              "        async function quickchart(key) {\n",
              "          const quickchartButtonEl =\n",
              "            document.querySelector('#' + key + ' button');\n",
              "          quickchartButtonEl.disabled = true;  // To prevent multiple clicks.\n",
              "          quickchartButtonEl.classList.add('colab-df-spinner');\n",
              "          try {\n",
              "            const charts = await google.colab.kernel.invokeFunction(\n",
              "                'suggestCharts', [key], {});\n",
              "          } catch (error) {\n",
              "            console.error('Error during call to suggestCharts:', error);\n",
              "          }\n",
              "          quickchartButtonEl.classList.remove('colab-df-spinner');\n",
              "          quickchartButtonEl.classList.add('colab-df-quickchart-complete');\n",
              "        }\n",
              "        (() => {\n",
              "          let quickchartButtonEl =\n",
              "            document.querySelector('#df-15d2837d-ebcd-4d1e-9243-b4f895d499b1 button');\n",
              "          quickchartButtonEl.style.display =\n",
              "            google.colab.kernel.accessAllowed ? 'block' : 'none';\n",
              "        })();\n",
              "      </script>\n",
              "    </div>\n",
              "\n",
              "    </div>\n",
              "  </div>\n"
            ],
            "application/vnd.google.colaboratory.intrinsic+json": {
              "type": "dataframe",
              "variable_name": "df",
              "summary": "{\n  \"name\": \"df\",\n  \"rows\": 1727,\n  \"fields\": [\n    {\n      \"column\": \"vhigh\",\n      \"properties\": {\n        \"dtype\": \"category\",\n        \"num_unique_values\": 4,\n        \"samples\": [\n          \"high\",\n          \"low\",\n          \"vhigh\"\n        ],\n        \"semantic_type\": \"\",\n        \"description\": \"\"\n      }\n    },\n    {\n      \"column\": \"vhigh.1\",\n      \"properties\": {\n        \"dtype\": \"category\",\n        \"num_unique_values\": 4,\n        \"samples\": [\n          \"high\",\n          \"low\",\n          \"vhigh\"\n        ],\n        \"semantic_type\": \"\",\n        \"description\": \"\"\n      }\n    },\n    {\n      \"column\": \"2\",\n      \"properties\": {\n        \"dtype\": \"category\",\n        \"num_unique_values\": 4,\n        \"samples\": [\n          \"3\",\n          \"5more\",\n          \"2\"\n        ],\n        \"semantic_type\": \"\",\n        \"description\": \"\"\n      }\n    },\n    {\n      \"column\": \"2.1\",\n      \"properties\": {\n        \"dtype\": \"category\",\n        \"num_unique_values\": 3,\n        \"samples\": [\n          \"2\",\n          \"4\",\n          \"more\"\n        ],\n        \"semantic_type\": \"\",\n        \"description\": \"\"\n      }\n    },\n    {\n      \"column\": \"small\",\n      \"properties\": {\n        \"dtype\": \"category\",\n        \"num_unique_values\": 3,\n        \"samples\": [\n          \"small\",\n          \"med\",\n          \"big\"\n        ],\n        \"semantic_type\": \"\",\n        \"description\": \"\"\n      }\n    },\n    {\n      \"column\": \"low\",\n      \"properties\": {\n        \"dtype\": \"category\",\n        \"num_unique_values\": 3,\n        \"samples\": [\n          \"med\",\n          \"high\",\n          \"low\"\n        ],\n        \"semantic_type\": \"\",\n        \"description\": \"\"\n      }\n    },\n    {\n      \"column\": \"unacc\",\n      \"properties\": {\n        \"dtype\": \"category\",\n        \"num_unique_values\": 4,\n        \"samples\": [\n          \"acc\",\n          \"good\",\n          \"unacc\"\n        ],\n        \"semantic_type\": \"\",\n        \"description\": \"\"\n      }\n    }\n  ]\n}"
            }
          },
          "metadata": {},
          "execution_count": 7
        }
      ]
    },
    {
      "cell_type": "code",
      "source": [
        "# Assign the correct column names\n",
        "df.columns = ['buying', 'maint', 'doors', 'persons', 'lug_boot', 'safety', 'class']"
      ],
      "metadata": {
        "id": "WrfmsegIwAG6"
      },
      "execution_count": null,
      "outputs": []
    },
    {
      "cell_type": "code",
      "source": [
        "df.head()"
      ],
      "metadata": {
        "colab": {
          "base_uri": "https://localhost:8080/",
          "height": 206
        },
        "id": "XQvHProjI9gn",
        "outputId": "7024dd81-0d6a-42bf-c66e-66d87b526e2a"
      },
      "execution_count": null,
      "outputs": [
        {
          "output_type": "execute_result",
          "data": {
            "text/plain": [
              "  buying  maint doors persons lug_boot safety  class\n",
              "0  vhigh  vhigh     2       2    small    med  unacc\n",
              "1  vhigh  vhigh     2       2    small   high  unacc\n",
              "2  vhigh  vhigh     2       2      med    low  unacc\n",
              "3  vhigh  vhigh     2       2      med    med  unacc\n",
              "4  vhigh  vhigh     2       2      med   high  unacc"
            ],
            "text/html": [
              "\n",
              "  <div id=\"df-086c6888-1230-4709-866f-f1dd31a100be\" class=\"colab-df-container\">\n",
              "    <div>\n",
              "<style scoped>\n",
              "    .dataframe tbody tr th:only-of-type {\n",
              "        vertical-align: middle;\n",
              "    }\n",
              "\n",
              "    .dataframe tbody tr th {\n",
              "        vertical-align: top;\n",
              "    }\n",
              "\n",
              "    .dataframe thead th {\n",
              "        text-align: right;\n",
              "    }\n",
              "</style>\n",
              "<table border=\"1\" class=\"dataframe\">\n",
              "  <thead>\n",
              "    <tr style=\"text-align: right;\">\n",
              "      <th></th>\n",
              "      <th>buying</th>\n",
              "      <th>maint</th>\n",
              "      <th>doors</th>\n",
              "      <th>persons</th>\n",
              "      <th>lug_boot</th>\n",
              "      <th>safety</th>\n",
              "      <th>class</th>\n",
              "    </tr>\n",
              "  </thead>\n",
              "  <tbody>\n",
              "    <tr>\n",
              "      <th>0</th>\n",
              "      <td>vhigh</td>\n",
              "      <td>vhigh</td>\n",
              "      <td>2</td>\n",
              "      <td>2</td>\n",
              "      <td>small</td>\n",
              "      <td>med</td>\n",
              "      <td>unacc</td>\n",
              "    </tr>\n",
              "    <tr>\n",
              "      <th>1</th>\n",
              "      <td>vhigh</td>\n",
              "      <td>vhigh</td>\n",
              "      <td>2</td>\n",
              "      <td>2</td>\n",
              "      <td>small</td>\n",
              "      <td>high</td>\n",
              "      <td>unacc</td>\n",
              "    </tr>\n",
              "    <tr>\n",
              "      <th>2</th>\n",
              "      <td>vhigh</td>\n",
              "      <td>vhigh</td>\n",
              "      <td>2</td>\n",
              "      <td>2</td>\n",
              "      <td>med</td>\n",
              "      <td>low</td>\n",
              "      <td>unacc</td>\n",
              "    </tr>\n",
              "    <tr>\n",
              "      <th>3</th>\n",
              "      <td>vhigh</td>\n",
              "      <td>vhigh</td>\n",
              "      <td>2</td>\n",
              "      <td>2</td>\n",
              "      <td>med</td>\n",
              "      <td>med</td>\n",
              "      <td>unacc</td>\n",
              "    </tr>\n",
              "    <tr>\n",
              "      <th>4</th>\n",
              "      <td>vhigh</td>\n",
              "      <td>vhigh</td>\n",
              "      <td>2</td>\n",
              "      <td>2</td>\n",
              "      <td>med</td>\n",
              "      <td>high</td>\n",
              "      <td>unacc</td>\n",
              "    </tr>\n",
              "  </tbody>\n",
              "</table>\n",
              "</div>\n",
              "    <div class=\"colab-df-buttons\">\n",
              "\n",
              "  <div class=\"colab-df-container\">\n",
              "    <button class=\"colab-df-convert\" onclick=\"convertToInteractive('df-086c6888-1230-4709-866f-f1dd31a100be')\"\n",
              "            title=\"Convert this dataframe to an interactive table.\"\n",
              "            style=\"display:none;\">\n",
              "\n",
              "  <svg xmlns=\"http://www.w3.org/2000/svg\" height=\"24px\" viewBox=\"0 -960 960 960\">\n",
              "    <path d=\"M120-120v-720h720v720H120Zm60-500h600v-160H180v160Zm220 220h160v-160H400v160Zm0 220h160v-160H400v160ZM180-400h160v-160H180v160Zm440 0h160v-160H620v160ZM180-180h160v-160H180v160Zm440 0h160v-160H620v160Z\"/>\n",
              "  </svg>\n",
              "    </button>\n",
              "\n",
              "  <style>\n",
              "    .colab-df-container {\n",
              "      display:flex;\n",
              "      gap: 12px;\n",
              "    }\n",
              "\n",
              "    .colab-df-convert {\n",
              "      background-color: #E8F0FE;\n",
              "      border: none;\n",
              "      border-radius: 50%;\n",
              "      cursor: pointer;\n",
              "      display: none;\n",
              "      fill: #1967D2;\n",
              "      height: 32px;\n",
              "      padding: 0 0 0 0;\n",
              "      width: 32px;\n",
              "    }\n",
              "\n",
              "    .colab-df-convert:hover {\n",
              "      background-color: #E2EBFA;\n",
              "      box-shadow: 0px 1px 2px rgba(60, 64, 67, 0.3), 0px 1px 3px 1px rgba(60, 64, 67, 0.15);\n",
              "      fill: #174EA6;\n",
              "    }\n",
              "\n",
              "    .colab-df-buttons div {\n",
              "      margin-bottom: 4px;\n",
              "    }\n",
              "\n",
              "    [theme=dark] .colab-df-convert {\n",
              "      background-color: #3B4455;\n",
              "      fill: #D2E3FC;\n",
              "    }\n",
              "\n",
              "    [theme=dark] .colab-df-convert:hover {\n",
              "      background-color: #434B5C;\n",
              "      box-shadow: 0px 1px 3px 1px rgba(0, 0, 0, 0.15);\n",
              "      filter: drop-shadow(0px 1px 2px rgba(0, 0, 0, 0.3));\n",
              "      fill: #FFFFFF;\n",
              "    }\n",
              "  </style>\n",
              "\n",
              "    <script>\n",
              "      const buttonEl =\n",
              "        document.querySelector('#df-086c6888-1230-4709-866f-f1dd31a100be button.colab-df-convert');\n",
              "      buttonEl.style.display =\n",
              "        google.colab.kernel.accessAllowed ? 'block' : 'none';\n",
              "\n",
              "      async function convertToInteractive(key) {\n",
              "        const element = document.querySelector('#df-086c6888-1230-4709-866f-f1dd31a100be');\n",
              "        const dataTable =\n",
              "          await google.colab.kernel.invokeFunction('convertToInteractive',\n",
              "                                                    [key], {});\n",
              "        if (!dataTable) return;\n",
              "\n",
              "        const docLinkHtml = 'Like what you see? Visit the ' +\n",
              "          '<a target=\"_blank\" href=https://colab.research.google.com/notebooks/data_table.ipynb>data table notebook</a>'\n",
              "          + ' to learn more about interactive tables.';\n",
              "        element.innerHTML = '';\n",
              "        dataTable['output_type'] = 'display_data';\n",
              "        await google.colab.output.renderOutput(dataTable, element);\n",
              "        const docLink = document.createElement('div');\n",
              "        docLink.innerHTML = docLinkHtml;\n",
              "        element.appendChild(docLink);\n",
              "      }\n",
              "    </script>\n",
              "  </div>\n",
              "\n",
              "\n",
              "    <div id=\"df-cd0ed1a6-ed28-45c9-a003-7cec7e0076e0\">\n",
              "      <button class=\"colab-df-quickchart\" onclick=\"quickchart('df-cd0ed1a6-ed28-45c9-a003-7cec7e0076e0')\"\n",
              "                title=\"Suggest charts\"\n",
              "                style=\"display:none;\">\n",
              "\n",
              "<svg xmlns=\"http://www.w3.org/2000/svg\" height=\"24px\"viewBox=\"0 0 24 24\"\n",
              "     width=\"24px\">\n",
              "    <g>\n",
              "        <path d=\"M19 3H5c-1.1 0-2 .9-2 2v14c0 1.1.9 2 2 2h14c1.1 0 2-.9 2-2V5c0-1.1-.9-2-2-2zM9 17H7v-7h2v7zm4 0h-2V7h2v10zm4 0h-2v-4h2v4z\"/>\n",
              "    </g>\n",
              "</svg>\n",
              "      </button>\n",
              "\n",
              "<style>\n",
              "  .colab-df-quickchart {\n",
              "      --bg-color: #E8F0FE;\n",
              "      --fill-color: #1967D2;\n",
              "      --hover-bg-color: #E2EBFA;\n",
              "      --hover-fill-color: #174EA6;\n",
              "      --disabled-fill-color: #AAA;\n",
              "      --disabled-bg-color: #DDD;\n",
              "  }\n",
              "\n",
              "  [theme=dark] .colab-df-quickchart {\n",
              "      --bg-color: #3B4455;\n",
              "      --fill-color: #D2E3FC;\n",
              "      --hover-bg-color: #434B5C;\n",
              "      --hover-fill-color: #FFFFFF;\n",
              "      --disabled-bg-color: #3B4455;\n",
              "      --disabled-fill-color: #666;\n",
              "  }\n",
              "\n",
              "  .colab-df-quickchart {\n",
              "    background-color: var(--bg-color);\n",
              "    border: none;\n",
              "    border-radius: 50%;\n",
              "    cursor: pointer;\n",
              "    display: none;\n",
              "    fill: var(--fill-color);\n",
              "    height: 32px;\n",
              "    padding: 0;\n",
              "    width: 32px;\n",
              "  }\n",
              "\n",
              "  .colab-df-quickchart:hover {\n",
              "    background-color: var(--hover-bg-color);\n",
              "    box-shadow: 0 1px 2px rgba(60, 64, 67, 0.3), 0 1px 3px 1px rgba(60, 64, 67, 0.15);\n",
              "    fill: var(--button-hover-fill-color);\n",
              "  }\n",
              "\n",
              "  .colab-df-quickchart-complete:disabled,\n",
              "  .colab-df-quickchart-complete:disabled:hover {\n",
              "    background-color: var(--disabled-bg-color);\n",
              "    fill: var(--disabled-fill-color);\n",
              "    box-shadow: none;\n",
              "  }\n",
              "\n",
              "  .colab-df-spinner {\n",
              "    border: 2px solid var(--fill-color);\n",
              "    border-color: transparent;\n",
              "    border-bottom-color: var(--fill-color);\n",
              "    animation:\n",
              "      spin 1s steps(1) infinite;\n",
              "  }\n",
              "\n",
              "  @keyframes spin {\n",
              "    0% {\n",
              "      border-color: transparent;\n",
              "      border-bottom-color: var(--fill-color);\n",
              "      border-left-color: var(--fill-color);\n",
              "    }\n",
              "    20% {\n",
              "      border-color: transparent;\n",
              "      border-left-color: var(--fill-color);\n",
              "      border-top-color: var(--fill-color);\n",
              "    }\n",
              "    30% {\n",
              "      border-color: transparent;\n",
              "      border-left-color: var(--fill-color);\n",
              "      border-top-color: var(--fill-color);\n",
              "      border-right-color: var(--fill-color);\n",
              "    }\n",
              "    40% {\n",
              "      border-color: transparent;\n",
              "      border-right-color: var(--fill-color);\n",
              "      border-top-color: var(--fill-color);\n",
              "    }\n",
              "    60% {\n",
              "      border-color: transparent;\n",
              "      border-right-color: var(--fill-color);\n",
              "    }\n",
              "    80% {\n",
              "      border-color: transparent;\n",
              "      border-right-color: var(--fill-color);\n",
              "      border-bottom-color: var(--fill-color);\n",
              "    }\n",
              "    90% {\n",
              "      border-color: transparent;\n",
              "      border-bottom-color: var(--fill-color);\n",
              "    }\n",
              "  }\n",
              "</style>\n",
              "\n",
              "      <script>\n",
              "        async function quickchart(key) {\n",
              "          const quickchartButtonEl =\n",
              "            document.querySelector('#' + key + ' button');\n",
              "          quickchartButtonEl.disabled = true;  // To prevent multiple clicks.\n",
              "          quickchartButtonEl.classList.add('colab-df-spinner');\n",
              "          try {\n",
              "            const charts = await google.colab.kernel.invokeFunction(\n",
              "                'suggestCharts', [key], {});\n",
              "          } catch (error) {\n",
              "            console.error('Error during call to suggestCharts:', error);\n",
              "          }\n",
              "          quickchartButtonEl.classList.remove('colab-df-spinner');\n",
              "          quickchartButtonEl.classList.add('colab-df-quickchart-complete');\n",
              "        }\n",
              "        (() => {\n",
              "          let quickchartButtonEl =\n",
              "            document.querySelector('#df-cd0ed1a6-ed28-45c9-a003-7cec7e0076e0 button');\n",
              "          quickchartButtonEl.style.display =\n",
              "            google.colab.kernel.accessAllowed ? 'block' : 'none';\n",
              "        })();\n",
              "      </script>\n",
              "    </div>\n",
              "\n",
              "    </div>\n",
              "  </div>\n"
            ],
            "application/vnd.google.colaboratory.intrinsic+json": {
              "type": "dataframe",
              "variable_name": "df",
              "summary": "{\n  \"name\": \"df\",\n  \"rows\": 1727,\n  \"fields\": [\n    {\n      \"column\": \"buying\",\n      \"properties\": {\n        \"dtype\": \"category\",\n        \"num_unique_values\": 4,\n        \"samples\": [\n          \"high\",\n          \"low\",\n          \"vhigh\"\n        ],\n        \"semantic_type\": \"\",\n        \"description\": \"\"\n      }\n    },\n    {\n      \"column\": \"maint\",\n      \"properties\": {\n        \"dtype\": \"category\",\n        \"num_unique_values\": 4,\n        \"samples\": [\n          \"high\",\n          \"low\",\n          \"vhigh\"\n        ],\n        \"semantic_type\": \"\",\n        \"description\": \"\"\n      }\n    },\n    {\n      \"column\": \"doors\",\n      \"properties\": {\n        \"dtype\": \"category\",\n        \"num_unique_values\": 4,\n        \"samples\": [\n          \"3\",\n          \"5more\",\n          \"2\"\n        ],\n        \"semantic_type\": \"\",\n        \"description\": \"\"\n      }\n    },\n    {\n      \"column\": \"persons\",\n      \"properties\": {\n        \"dtype\": \"category\",\n        \"num_unique_values\": 3,\n        \"samples\": [\n          \"2\",\n          \"4\",\n          \"more\"\n        ],\n        \"semantic_type\": \"\",\n        \"description\": \"\"\n      }\n    },\n    {\n      \"column\": \"lug_boot\",\n      \"properties\": {\n        \"dtype\": \"category\",\n        \"num_unique_values\": 3,\n        \"samples\": [\n          \"small\",\n          \"med\",\n          \"big\"\n        ],\n        \"semantic_type\": \"\",\n        \"description\": \"\"\n      }\n    },\n    {\n      \"column\": \"safety\",\n      \"properties\": {\n        \"dtype\": \"category\",\n        \"num_unique_values\": 3,\n        \"samples\": [\n          \"med\",\n          \"high\",\n          \"low\"\n        ],\n        \"semantic_type\": \"\",\n        \"description\": \"\"\n      }\n    },\n    {\n      \"column\": \"class\",\n      \"properties\": {\n        \"dtype\": \"category\",\n        \"num_unique_values\": 4,\n        \"samples\": [\n          \"acc\",\n          \"good\",\n          \"unacc\"\n        ],\n        \"semantic_type\": \"\",\n        \"description\": \"\"\n      }\n    }\n  ]\n}"
            }
          },
          "metadata": {},
          "execution_count": 9
        }
      ]
    },
    {
      "cell_type": "code",
      "source": [
        "df['class'].unique() # 4 classes"
      ],
      "metadata": {
        "colab": {
          "base_uri": "https://localhost:8080/"
        },
        "id": "ZtBmQyr-5OUv",
        "outputId": "1ac9e67a-93b0-4b65-caee-abe63e09b579"
      },
      "execution_count": null,
      "outputs": [
        {
          "output_type": "execute_result",
          "data": {
            "text/plain": [
              "array(['unacc', 'acc', 'vgood', 'good'], dtype=object)"
            ]
          },
          "metadata": {},
          "execution_count": 10
        }
      ]
    },
    {
      "cell_type": "code",
      "source": [
        "# Check for duplicate entries\n",
        "duplicates = df.duplicated()\n",
        "\n",
        "# Count the number of duplicate entries\n",
        "num_duplicates = duplicates.sum()\n",
        "\n",
        "print(f\"Number of duplicate entries: {num_duplicates}\")"
      ],
      "metadata": {
        "colab": {
          "base_uri": "https://localhost:8080/"
        },
        "id": "OCjnsaLPJFqf",
        "outputId": "84d86a32-3b03-40c8-c04e-9f2ef84d042a"
      },
      "execution_count": null,
      "outputs": [
        {
          "output_type": "stream",
          "name": "stdout",
          "text": [
            "Number of duplicate entries: 0\n"
          ]
        }
      ]
    },
    {
      "cell_type": "code",
      "source": [
        "# Remove duplicate entries\n",
        "df = df.drop_duplicates()\n",
        "\n",
        "# Verify that duplicates are removed\n",
        "print(f\"Number of duplicate entries after removal: {df.duplicated().sum()}\")"
      ],
      "metadata": {
        "colab": {
          "base_uri": "https://localhost:8080/"
        },
        "id": "yQ8_p6rzJlIw",
        "outputId": "2edda0b0-28a5-42bc-ba03-913c6fb66c73"
      },
      "execution_count": null,
      "outputs": [
        {
          "output_type": "stream",
          "name": "stdout",
          "text": [
            "Number of duplicate entries after removal: 0\n"
          ]
        }
      ]
    },
    {
      "cell_type": "code",
      "source": [
        "# Check for missing values\n",
        "missing_values = df.isnull().sum()\n",
        "\n",
        "print(\"Missing values in each column:\")\n",
        "print(missing_values)"
      ],
      "metadata": {
        "colab": {
          "base_uri": "https://localhost:8080/"
        },
        "id": "WbRS7vzhJosB",
        "outputId": "61ff36a2-d042-49ab-e503-59302e8a235d"
      },
      "execution_count": null,
      "outputs": [
        {
          "output_type": "stream",
          "name": "stdout",
          "text": [
            "Missing values in each column:\n",
            "buying      0\n",
            "maint       0\n",
            "doors       0\n",
            "persons     0\n",
            "lug_boot    0\n",
            "safety      0\n",
            "class       0\n",
            "dtype: int64\n"
          ]
        }
      ]
    },
    {
      "cell_type": "code",
      "source": [
        "# Remove entries with missing feature values\n",
        "df = df.dropna()\n",
        "\n",
        "# Verify that missing values are removed\n",
        "print(\"Missing values after removal:\")\n",
        "print(df.isnull().sum())"
      ],
      "metadata": {
        "colab": {
          "base_uri": "https://localhost:8080/"
        },
        "id": "1K0y6JWAJq5C",
        "outputId": "848ff5f4-e833-40ba-f25f-b00969364254"
      },
      "execution_count": null,
      "outputs": [
        {
          "output_type": "stream",
          "name": "stdout",
          "text": [
            "Missing values after removal:\n",
            "buying      0\n",
            "maint       0\n",
            "doors       0\n",
            "persons     0\n",
            "lug_boot    0\n",
            "safety      0\n",
            "class       0\n",
            "dtype: int64\n"
          ]
        }
      ]
    },
    {
      "cell_type": "markdown",
      "source": [
        "###<font color='pink'> Label Encoding the Categorical Features"
      ],
      "metadata": {
        "id": "uVKuh-RbYMtk"
      }
    },
    {
      "cell_type": "code",
      "source": [
        "#convert textual data to numeric since Naive Baies requires numeric data\n",
        "from sklearn.preprocessing import LabelEncoder\n",
        "\n",
        "# Create a dictionary to hold the class mappings for each column\n",
        "class_mappings = {}   # {'column': {class1:label1, class2:label2}}\n",
        "\n",
        "# Create a LabelEncoder object\n",
        "label_encoder = LabelEncoder()\n",
        "\n",
        "# Apply label encoding to each categorical column\n",
        "for column in df.columns:\n",
        "    df[column] = label_encoder.fit_transform(df[column])\n",
        "\n",
        "    # Get the mapping of original classes to encoded labels\n",
        "    mappings = dict(zip(label_encoder.classes_, label_encoder.transform(label_encoder.classes_)))\n",
        "\n",
        "    # Store the mapping in the dictionary\n",
        "    class_mappings[column] = mappings\n",
        "\n",
        "# Display the first few rows of the transformed DataFrame\n",
        "print(df.head())"
      ],
      "metadata": {
        "colab": {
          "base_uri": "https://localhost:8080/"
        },
        "id": "8S_rCFzNKAho",
        "outputId": "8fdb6b77-983b-40d4-c5b5-4fab60941658"
      },
      "execution_count": null,
      "outputs": [
        {
          "output_type": "stream",
          "name": "stdout",
          "text": [
            "   buying  maint  doors  persons  lug_boot  safety  class\n",
            "0       3      3      0        0         2       2      2\n",
            "1       3      3      0        0         2       0      2\n",
            "2       3      3      0        0         1       1      2\n",
            "3       3      3      0        0         1       2      2\n",
            "4       3      3      0        0         1       0      2\n"
          ]
        }
      ]
    },
    {
      "cell_type": "code",
      "source": [
        "print(class_mappings)"
      ],
      "metadata": {
        "colab": {
          "base_uri": "https://localhost:8080/"
        },
        "id": "faFs4Aq72S0W",
        "outputId": "27fb91f6-dd8b-4c58-f983-49e96bb61aed"
      },
      "execution_count": null,
      "outputs": [
        {
          "output_type": "stream",
          "name": "stdout",
          "text": [
            "{'buying': {'high': np.int64(0), 'low': np.int64(1), 'med': np.int64(2), 'vhigh': np.int64(3)}, 'maint': {'high': np.int64(0), 'low': np.int64(1), 'med': np.int64(2), 'vhigh': np.int64(3)}, 'doors': {'2': np.int64(0), '3': np.int64(1), '4': np.int64(2), '5more': np.int64(3)}, 'persons': {'2': np.int64(0), '4': np.int64(1), 'more': np.int64(2)}, 'lug_boot': {'big': np.int64(0), 'med': np.int64(1), 'small': np.int64(2)}, 'safety': {'high': np.int64(0), 'low': np.int64(1), 'med': np.int64(2)}, 'class': {'acc': np.int64(0), 'good': np.int64(1), 'unacc': np.int64(2), 'vgood': np.int64(3)}}\n"
          ]
        }
      ]
    },
    {
      "cell_type": "code",
      "source": [
        "#Assign y to the “class” variable and X to the rest of the variables\n",
        "y = df[['class']].astype('int')\n",
        "X = df.drop('class',axis=1)"
      ],
      "metadata": {
        "id": "noGgYi3dKqO6"
      },
      "execution_count": null,
      "outputs": []
    },
    {
      "cell_type": "code",
      "source": [
        "# statistical description before scaling\n",
        "df.describe()"
      ],
      "metadata": {
        "colab": {
          "base_uri": "https://localhost:8080/",
          "height": 300
        },
        "id": "9xeOuW9d3XYe",
        "outputId": "b4c4cd77-8240-4e59-a0e3-565b5af58783"
      },
      "execution_count": null,
      "outputs": [
        {
          "output_type": "execute_result",
          "data": {
            "text/plain": [
              "            buying        maint        doors      persons     lug_boot  \\\n",
              "count  1727.000000  1727.000000  1727.000000  1727.000000  1727.000000   \n",
              "mean      1.499131     1.499131     1.500869     1.000579     0.999421   \n",
              "std       1.118098     1.118098     1.118098     0.816615     0.816615   \n",
              "min       0.000000     0.000000     0.000000     0.000000     0.000000   \n",
              "25%       0.500000     0.500000     1.000000     0.000000     0.000000   \n",
              "50%       1.000000     1.000000     2.000000     1.000000     1.000000   \n",
              "75%       2.000000     2.000000     2.500000     2.000000     2.000000   \n",
              "max       3.000000     3.000000     3.000000     2.000000     2.000000   \n",
              "\n",
              "           safety        class  \n",
              "count  1727.00000  1727.000000  \n",
              "mean      1.00000     1.552982  \n",
              "std       0.81697     0.876136  \n",
              "min       0.00000     0.000000  \n",
              "25%       0.00000     1.000000  \n",
              "50%       1.00000     2.000000  \n",
              "75%       2.00000     2.000000  \n",
              "max       2.00000     3.000000  "
            ],
            "text/html": [
              "\n",
              "  <div id=\"df-8b10569d-624d-4394-93ae-70d6dd80e2d1\" class=\"colab-df-container\">\n",
              "    <div>\n",
              "<style scoped>\n",
              "    .dataframe tbody tr th:only-of-type {\n",
              "        vertical-align: middle;\n",
              "    }\n",
              "\n",
              "    .dataframe tbody tr th {\n",
              "        vertical-align: top;\n",
              "    }\n",
              "\n",
              "    .dataframe thead th {\n",
              "        text-align: right;\n",
              "    }\n",
              "</style>\n",
              "<table border=\"1\" class=\"dataframe\">\n",
              "  <thead>\n",
              "    <tr style=\"text-align: right;\">\n",
              "      <th></th>\n",
              "      <th>buying</th>\n",
              "      <th>maint</th>\n",
              "      <th>doors</th>\n",
              "      <th>persons</th>\n",
              "      <th>lug_boot</th>\n",
              "      <th>safety</th>\n",
              "      <th>class</th>\n",
              "    </tr>\n",
              "  </thead>\n",
              "  <tbody>\n",
              "    <tr>\n",
              "      <th>count</th>\n",
              "      <td>1727.000000</td>\n",
              "      <td>1727.000000</td>\n",
              "      <td>1727.000000</td>\n",
              "      <td>1727.000000</td>\n",
              "      <td>1727.000000</td>\n",
              "      <td>1727.00000</td>\n",
              "      <td>1727.000000</td>\n",
              "    </tr>\n",
              "    <tr>\n",
              "      <th>mean</th>\n",
              "      <td>1.499131</td>\n",
              "      <td>1.499131</td>\n",
              "      <td>1.500869</td>\n",
              "      <td>1.000579</td>\n",
              "      <td>0.999421</td>\n",
              "      <td>1.00000</td>\n",
              "      <td>1.552982</td>\n",
              "    </tr>\n",
              "    <tr>\n",
              "      <th>std</th>\n",
              "      <td>1.118098</td>\n",
              "      <td>1.118098</td>\n",
              "      <td>1.118098</td>\n",
              "      <td>0.816615</td>\n",
              "      <td>0.816615</td>\n",
              "      <td>0.81697</td>\n",
              "      <td>0.876136</td>\n",
              "    </tr>\n",
              "    <tr>\n",
              "      <th>min</th>\n",
              "      <td>0.000000</td>\n",
              "      <td>0.000000</td>\n",
              "      <td>0.000000</td>\n",
              "      <td>0.000000</td>\n",
              "      <td>0.000000</td>\n",
              "      <td>0.00000</td>\n",
              "      <td>0.000000</td>\n",
              "    </tr>\n",
              "    <tr>\n",
              "      <th>25%</th>\n",
              "      <td>0.500000</td>\n",
              "      <td>0.500000</td>\n",
              "      <td>1.000000</td>\n",
              "      <td>0.000000</td>\n",
              "      <td>0.000000</td>\n",
              "      <td>0.00000</td>\n",
              "      <td>1.000000</td>\n",
              "    </tr>\n",
              "    <tr>\n",
              "      <th>50%</th>\n",
              "      <td>1.000000</td>\n",
              "      <td>1.000000</td>\n",
              "      <td>2.000000</td>\n",
              "      <td>1.000000</td>\n",
              "      <td>1.000000</td>\n",
              "      <td>1.00000</td>\n",
              "      <td>2.000000</td>\n",
              "    </tr>\n",
              "    <tr>\n",
              "      <th>75%</th>\n",
              "      <td>2.000000</td>\n",
              "      <td>2.000000</td>\n",
              "      <td>2.500000</td>\n",
              "      <td>2.000000</td>\n",
              "      <td>2.000000</td>\n",
              "      <td>2.00000</td>\n",
              "      <td>2.000000</td>\n",
              "    </tr>\n",
              "    <tr>\n",
              "      <th>max</th>\n",
              "      <td>3.000000</td>\n",
              "      <td>3.000000</td>\n",
              "      <td>3.000000</td>\n",
              "      <td>2.000000</td>\n",
              "      <td>2.000000</td>\n",
              "      <td>2.00000</td>\n",
              "      <td>3.000000</td>\n",
              "    </tr>\n",
              "  </tbody>\n",
              "</table>\n",
              "</div>\n",
              "    <div class=\"colab-df-buttons\">\n",
              "\n",
              "  <div class=\"colab-df-container\">\n",
              "    <button class=\"colab-df-convert\" onclick=\"convertToInteractive('df-8b10569d-624d-4394-93ae-70d6dd80e2d1')\"\n",
              "            title=\"Convert this dataframe to an interactive table.\"\n",
              "            style=\"display:none;\">\n",
              "\n",
              "  <svg xmlns=\"http://www.w3.org/2000/svg\" height=\"24px\" viewBox=\"0 -960 960 960\">\n",
              "    <path d=\"M120-120v-720h720v720H120Zm60-500h600v-160H180v160Zm220 220h160v-160H400v160Zm0 220h160v-160H400v160ZM180-400h160v-160H180v160Zm440 0h160v-160H620v160ZM180-180h160v-160H180v160Zm440 0h160v-160H620v160Z\"/>\n",
              "  </svg>\n",
              "    </button>\n",
              "\n",
              "  <style>\n",
              "    .colab-df-container {\n",
              "      display:flex;\n",
              "      gap: 12px;\n",
              "    }\n",
              "\n",
              "    .colab-df-convert {\n",
              "      background-color: #E8F0FE;\n",
              "      border: none;\n",
              "      border-radius: 50%;\n",
              "      cursor: pointer;\n",
              "      display: none;\n",
              "      fill: #1967D2;\n",
              "      height: 32px;\n",
              "      padding: 0 0 0 0;\n",
              "      width: 32px;\n",
              "    }\n",
              "\n",
              "    .colab-df-convert:hover {\n",
              "      background-color: #E2EBFA;\n",
              "      box-shadow: 0px 1px 2px rgba(60, 64, 67, 0.3), 0px 1px 3px 1px rgba(60, 64, 67, 0.15);\n",
              "      fill: #174EA6;\n",
              "    }\n",
              "\n",
              "    .colab-df-buttons div {\n",
              "      margin-bottom: 4px;\n",
              "    }\n",
              "\n",
              "    [theme=dark] .colab-df-convert {\n",
              "      background-color: #3B4455;\n",
              "      fill: #D2E3FC;\n",
              "    }\n",
              "\n",
              "    [theme=dark] .colab-df-convert:hover {\n",
              "      background-color: #434B5C;\n",
              "      box-shadow: 0px 1px 3px 1px rgba(0, 0, 0, 0.15);\n",
              "      filter: drop-shadow(0px 1px 2px rgba(0, 0, 0, 0.3));\n",
              "      fill: #FFFFFF;\n",
              "    }\n",
              "  </style>\n",
              "\n",
              "    <script>\n",
              "      const buttonEl =\n",
              "        document.querySelector('#df-8b10569d-624d-4394-93ae-70d6dd80e2d1 button.colab-df-convert');\n",
              "      buttonEl.style.display =\n",
              "        google.colab.kernel.accessAllowed ? 'block' : 'none';\n",
              "\n",
              "      async function convertToInteractive(key) {\n",
              "        const element = document.querySelector('#df-8b10569d-624d-4394-93ae-70d6dd80e2d1');\n",
              "        const dataTable =\n",
              "          await google.colab.kernel.invokeFunction('convertToInteractive',\n",
              "                                                    [key], {});\n",
              "        if (!dataTable) return;\n",
              "\n",
              "        const docLinkHtml = 'Like what you see? Visit the ' +\n",
              "          '<a target=\"_blank\" href=https://colab.research.google.com/notebooks/data_table.ipynb>data table notebook</a>'\n",
              "          + ' to learn more about interactive tables.';\n",
              "        element.innerHTML = '';\n",
              "        dataTable['output_type'] = 'display_data';\n",
              "        await google.colab.output.renderOutput(dataTable, element);\n",
              "        const docLink = document.createElement('div');\n",
              "        docLink.innerHTML = docLinkHtml;\n",
              "        element.appendChild(docLink);\n",
              "      }\n",
              "    </script>\n",
              "  </div>\n",
              "\n",
              "\n",
              "    <div id=\"df-72c88f52-8ea0-4cfb-89ba-dba87270fdd0\">\n",
              "      <button class=\"colab-df-quickchart\" onclick=\"quickchart('df-72c88f52-8ea0-4cfb-89ba-dba87270fdd0')\"\n",
              "                title=\"Suggest charts\"\n",
              "                style=\"display:none;\">\n",
              "\n",
              "<svg xmlns=\"http://www.w3.org/2000/svg\" height=\"24px\"viewBox=\"0 0 24 24\"\n",
              "     width=\"24px\">\n",
              "    <g>\n",
              "        <path d=\"M19 3H5c-1.1 0-2 .9-2 2v14c0 1.1.9 2 2 2h14c1.1 0 2-.9 2-2V5c0-1.1-.9-2-2-2zM9 17H7v-7h2v7zm4 0h-2V7h2v10zm4 0h-2v-4h2v4z\"/>\n",
              "    </g>\n",
              "</svg>\n",
              "      </button>\n",
              "\n",
              "<style>\n",
              "  .colab-df-quickchart {\n",
              "      --bg-color: #E8F0FE;\n",
              "      --fill-color: #1967D2;\n",
              "      --hover-bg-color: #E2EBFA;\n",
              "      --hover-fill-color: #174EA6;\n",
              "      --disabled-fill-color: #AAA;\n",
              "      --disabled-bg-color: #DDD;\n",
              "  }\n",
              "\n",
              "  [theme=dark] .colab-df-quickchart {\n",
              "      --bg-color: #3B4455;\n",
              "      --fill-color: #D2E3FC;\n",
              "      --hover-bg-color: #434B5C;\n",
              "      --hover-fill-color: #FFFFFF;\n",
              "      --disabled-bg-color: #3B4455;\n",
              "      --disabled-fill-color: #666;\n",
              "  }\n",
              "\n",
              "  .colab-df-quickchart {\n",
              "    background-color: var(--bg-color);\n",
              "    border: none;\n",
              "    border-radius: 50%;\n",
              "    cursor: pointer;\n",
              "    display: none;\n",
              "    fill: var(--fill-color);\n",
              "    height: 32px;\n",
              "    padding: 0;\n",
              "    width: 32px;\n",
              "  }\n",
              "\n",
              "  .colab-df-quickchart:hover {\n",
              "    background-color: var(--hover-bg-color);\n",
              "    box-shadow: 0 1px 2px rgba(60, 64, 67, 0.3), 0 1px 3px 1px rgba(60, 64, 67, 0.15);\n",
              "    fill: var(--button-hover-fill-color);\n",
              "  }\n",
              "\n",
              "  .colab-df-quickchart-complete:disabled,\n",
              "  .colab-df-quickchart-complete:disabled:hover {\n",
              "    background-color: var(--disabled-bg-color);\n",
              "    fill: var(--disabled-fill-color);\n",
              "    box-shadow: none;\n",
              "  }\n",
              "\n",
              "  .colab-df-spinner {\n",
              "    border: 2px solid var(--fill-color);\n",
              "    border-color: transparent;\n",
              "    border-bottom-color: var(--fill-color);\n",
              "    animation:\n",
              "      spin 1s steps(1) infinite;\n",
              "  }\n",
              "\n",
              "  @keyframes spin {\n",
              "    0% {\n",
              "      border-color: transparent;\n",
              "      border-bottom-color: var(--fill-color);\n",
              "      border-left-color: var(--fill-color);\n",
              "    }\n",
              "    20% {\n",
              "      border-color: transparent;\n",
              "      border-left-color: var(--fill-color);\n",
              "      border-top-color: var(--fill-color);\n",
              "    }\n",
              "    30% {\n",
              "      border-color: transparent;\n",
              "      border-left-color: var(--fill-color);\n",
              "      border-top-color: var(--fill-color);\n",
              "      border-right-color: var(--fill-color);\n",
              "    }\n",
              "    40% {\n",
              "      border-color: transparent;\n",
              "      border-right-color: var(--fill-color);\n",
              "      border-top-color: var(--fill-color);\n",
              "    }\n",
              "    60% {\n",
              "      border-color: transparent;\n",
              "      border-right-color: var(--fill-color);\n",
              "    }\n",
              "    80% {\n",
              "      border-color: transparent;\n",
              "      border-right-color: var(--fill-color);\n",
              "      border-bottom-color: var(--fill-color);\n",
              "    }\n",
              "    90% {\n",
              "      border-color: transparent;\n",
              "      border-bottom-color: var(--fill-color);\n",
              "    }\n",
              "  }\n",
              "</style>\n",
              "\n",
              "      <script>\n",
              "        async function quickchart(key) {\n",
              "          const quickchartButtonEl =\n",
              "            document.querySelector('#' + key + ' button');\n",
              "          quickchartButtonEl.disabled = true;  // To prevent multiple clicks.\n",
              "          quickchartButtonEl.classList.add('colab-df-spinner');\n",
              "          try {\n",
              "            const charts = await google.colab.kernel.invokeFunction(\n",
              "                'suggestCharts', [key], {});\n",
              "          } catch (error) {\n",
              "            console.error('Error during call to suggestCharts:', error);\n",
              "          }\n",
              "          quickchartButtonEl.classList.remove('colab-df-spinner');\n",
              "          quickchartButtonEl.classList.add('colab-df-quickchart-complete');\n",
              "        }\n",
              "        (() => {\n",
              "          let quickchartButtonEl =\n",
              "            document.querySelector('#df-72c88f52-8ea0-4cfb-89ba-dba87270fdd0 button');\n",
              "          quickchartButtonEl.style.display =\n",
              "            google.colab.kernel.accessAllowed ? 'block' : 'none';\n",
              "        })();\n",
              "      </script>\n",
              "    </div>\n",
              "\n",
              "    </div>\n",
              "  </div>\n"
            ],
            "application/vnd.google.colaboratory.intrinsic+json": {
              "type": "dataframe",
              "summary": "{\n  \"name\": \"df\",\n  \"rows\": 8,\n  \"fields\": [\n    {\n      \"column\": \"buying\",\n      \"properties\": {\n        \"dtype\": \"number\",\n        \"std\": 610.1269034341456,\n        \"min\": 0.0,\n        \"max\": 1727.0,\n        \"num_unique_values\": 8,\n        \"samples\": [\n          1.499131441806601,\n          1.0,\n          1727.0\n        ],\n        \"semantic_type\": \"\",\n        \"description\": \"\"\n      }\n    },\n    {\n      \"column\": \"maint\",\n      \"properties\": {\n        \"dtype\": \"number\",\n        \"std\": 610.1269034341456,\n        \"min\": 0.0,\n        \"max\": 1727.0,\n        \"num_unique_values\": 8,\n        \"samples\": [\n          1.499131441806601,\n          1.0,\n          1727.0\n        ],\n        \"semantic_type\": \"\",\n        \"description\": \"\"\n      }\n    },\n    {\n      \"column\": \"doors\",\n      \"properties\": {\n        \"dtype\": \"number\",\n        \"std\": 610.025826130926,\n        \"min\": 0.0,\n        \"max\": 1727.0,\n        \"num_unique_values\": 8,\n        \"samples\": [\n          1.500868558193399,\n          2.0,\n          1727.0\n        ],\n        \"semantic_type\": \"\",\n        \"description\": \"\"\n      }\n    },\n    {\n      \"column\": \"persons\",\n      \"properties\": {\n        \"dtype\": \"number\",\n        \"std\": 610.2428568534524,\n        \"min\": 0.0,\n        \"max\": 1727.0,\n        \"num_unique_values\": 6,\n        \"samples\": [\n          1727.0,\n          1.0005790387955993,\n          2.0\n        ],\n        \"semantic_type\": \"\",\n        \"description\": \"\"\n      }\n    },\n    {\n      \"column\": \"lug_boot\",\n      \"properties\": {\n        \"dtype\": \"number\",\n        \"std\": 610.242915338056,\n        \"min\": 0.0,\n        \"max\": 1727.0,\n        \"num_unique_values\": 6,\n        \"samples\": [\n          1727.0,\n          0.9994209612044007,\n          2.0\n        ],\n        \"semantic_type\": \"\",\n        \"description\": \"\"\n      }\n    },\n    {\n      \"column\": \"safety\",\n      \"properties\": {\n        \"dtype\": \"number\",\n        \"std\": 610.2428681590545,\n        \"min\": 0.0,\n        \"max\": 1727.0,\n        \"num_unique_values\": 5,\n        \"samples\": [\n          1.0,\n          2.0,\n          0.816969501083757\n        ],\n        \"semantic_type\": \"\",\n        \"description\": \"\"\n      }\n    },\n    {\n      \"column\": \"class\",\n      \"properties\": {\n        \"dtype\": \"number\",\n        \"std\": 610.0606160578533,\n        \"min\": 0.0,\n        \"max\": 1727.0,\n        \"num_unique_values\": 7,\n        \"samples\": [\n          1727.0,\n          1.5529820497973363,\n          2.0\n        ],\n        \"semantic_type\": \"\",\n        \"description\": \"\"\n      }\n    }\n  ]\n}"
            }
          },
          "metadata": {},
          "execution_count": 18
        }
      ]
    },
    {
      "cell_type": "markdown",
      "source": [
        "##### <font color='pink'>For Naive Bayes, particularly when working with categorical data or when implementing models like <font color='seablue'>CategoricalNB</font> or <font color='seablue'>MultinomialNB</font>, feature scaling or standardization is generally not necessary. This is because Naive Bayes models typically operate on categorical features or count-based data, where scaling doesn't affect the probability computations.</font>"
      ],
      "metadata": {
        "id": "RC5JwqptLyKW"
      }
    },
    {
      "cell_type": "markdown",
      "source": [
        "##### <font color = 'pink'>For Naive Bayes models, plotting a correlation matrix is generally not a necessity because Naive Bayes assumes that features are conditionally independent given the class label."
      ],
      "metadata": {
        "id": "Y0PLoQggNQTO"
      }
    },
    {
      "cell_type": "code",
      "source": [
        "import seaborn as sns\n",
        "import matplotlib.pyplot as plt\n",
        "\n",
        "# Compute the correlation matrix\n",
        "corr_matrix = df.corr()\n",
        "\n",
        "# Display the correlation matrix using seaborn\n",
        "plt.figure(figsize=(5, 4))\n",
        "sns.heatmap(corr_matrix, annot=True, cmap='Pastel2', fmt='.2f', linewidths=1)\n",
        "# Add titles and labels\n",
        "plt.title('Correlation Matrix')\n",
        "plt.show()"
      ],
      "metadata": {
        "id": "wK_cMmLTNe_b",
        "colab": {
          "base_uri": "https://localhost:8080/",
          "height": 436
        },
        "outputId": "cb1860a0-96a0-4b35-de26-0b7411afdd58"
      },
      "execution_count": null,
      "outputs": [
        {
          "output_type": "display_data",
          "data": {
            "text/plain": [
              "<Figure size 500x400 with 2 Axes>"
            ],
            "image/png": "[encoded data removed]"
          },
          "metadata": {}
        }
      ]
    },
    {
      "cell_type": "markdown",
      "source": [
        "#####<font color='pink'>For categorical features, Naive Bayes works based on the frequency of categories rather than their distribution. Outliers in categorical data are less of a concern because they don't affect the probability calculations directly."
      ],
      "metadata": {
        "id": "_M78BOJ-N6c8"
      }
    },
    {
      "cell_type": "code",
      "source": [
        "# # Create a boxplot for each feature in the dataset\n",
        "# plt.figure(figsize=(12, 8))\n",
        "# sns.boxplot(data=df)\n",
        "# plt.title('Boxplot of Features')\n",
        "# plt.xticks(rotation=90)  # Rotate x-axis labels for better readability\n",
        "# plt.show()"
      ],
      "metadata": {
        "id": "7SMYUrfZ3sP_"
      },
      "execution_count": null,
      "outputs": []
    },
    {
      "cell_type": "markdown",
      "source": [
        "#####<font color='pink'>Check the class distribution of the dataset"
      ],
      "metadata": {
        "id": "Kw-X7Z9GXxFP"
      }
    },
    {
      "cell_type": "code",
      "source": [
        "df['class'].value_counts()\n",
        "# Set the figure size\n",
        "plt.figure(figsize=(4, 4))\n",
        "# Create the count plot\n",
        "sns.countplot(data=df, x=\"class\", hue=\"class\", palette='viridis')"
      ],
      "metadata": {
        "colab": {
          "base_uri": "https://localhost:8080/",
          "height": 405
        },
        "id": "6xO5U6ml5SeS",
        "outputId": "97080275-763e-4eb5-d1d1-47506d8001b6"
      },
      "execution_count": null,
      "outputs": [
        {
          "output_type": "execute_result",
          "data": {
            "text/plain": [
              "<Axes: xlabel='class', ylabel='count'>"
            ]
          },
          "metadata": {},
          "execution_count": 21
        },
        {
          "output_type": "display_data",
          "data": {
            "text/plain": [
              "<Figure size 400x400 with 1 Axes>"
            ],
            "image/png": "[encoded data removed]"
          },
          "metadata": {}
        }
      ]
    },
    {
      "cell_type": "markdown",
      "source": [
        "### <font color='pink'> Split the dataset into train-validation-test (50-25-25)"
      ],
      "metadata": {
        "id": "YZTVgFP0ZnP3"
      }
    },
    {
      "cell_type": "code",
      "source": [
        "from sklearn.model_selection import train_test_split\n",
        "X_train, X_test, y_train, y_test = train_test_split(X, y, test_size=0.30, random_state=42)\n",
        "X_test, X_val, y_test, y_val = train_test_split(X_test, y_test, test_size=0.50, random_state=42)"
      ],
      "metadata": {
        "id": "I9tcuFvaUZ6m"
      },
      "execution_count": null,
      "outputs": []
    },
    {
      "cell_type": "code",
      "source": [
        "print(type(X_train))  # Should be <class 'numpy.ndarray'> or <class 'pandas.core.frame.DataFrame'>"
      ],
      "metadata": {
        "colab": {
          "base_uri": "https://localhost:8080/"
        },
        "id": "pVnR1-cCS19u",
        "outputId": "3501b45b-caa0-4178-eed3-98d9f4a3b0a5"
      },
      "execution_count": null,
      "outputs": [
        {
          "output_type": "stream",
          "name": "stdout",
          "text": [
            "<class 'pandas.core.frame.DataFrame'>\n"
          ]
        }
      ]
    },
    {
      "cell_type": "code",
      "source": [
        "#Handling the class imbalance problem\n",
        "#SMOTE (Synthetic Minority Over-sampling Technique): Creates synthetic samples for the minority class.\n",
        "\n",
        "from imblearn.over_sampling import SMOTE\n",
        "\n",
        "smote = SMOTE(random_state=42)\n",
        "X_train_resampled, y_train_resampled = smote.fit_resample(X_train, y_train)\n",
        "\n",
        "print(\"Original counts: \", y_train.value_counts())\n",
        "print(len(y_train))\n",
        "print(\"Resampled counts: \", y_train_resampled.value_counts())\n",
        "print(len(y_train_resampled))\n",
        "\n",
        "y_train = y_train_resampled   # renaming them back for easy usage\n",
        "X_train = X_train_resampled"
      ],
      "metadata": {
        "colab": {
          "base_uri": "https://localhost:8080/"
        },
        "id": "dzblHh3icJwn",
        "outputId": "f213ec20-3967-4301-94cd-c52719b4e23f"
      },
      "execution_count": null,
      "outputs": [
        {
          "output_type": "stream",
          "name": "stdout",
          "text": [
            "Original counts:  class\n",
            "2        848\n",
            "0        266\n",
            "1         52\n",
            "3         42\n",
            "Name: count, dtype: int64\n",
            "1208\n",
            "Resampled counts:  class\n",
            "0        848\n",
            "1        848\n",
            "2        848\n",
            "3        848\n",
            "Name: count, dtype: int64\n",
            "3392\n"
          ]
        }
      ]
    },
    {
      "cell_type": "code",
      "source": [
        "# converting df panda frames to numpy arrays\n",
        "X_train = X_train.to_numpy()\n",
        "X_val = X_val.to_numpy()\n",
        "X_test = X_test.to_numpy()\n",
        "\n",
        "y_train = y_train.to_numpy()\n",
        "y_val = y_val.to_numpy()\n",
        "y_test = y_test.to_numpy()\n",
        "\n",
        "print(X_train.shape)  # (num_samples_train, num_features)\n",
        "print(y_train.shape)  # (num_samples_train,)\n",
        "print(X_val.shape)    # (num_samples_val, num_features)\n",
        "print(y_val.shape)    # (num_samples_val,)\n",
        "print(X_test.shape)   # (num_samples_test, num_features)\n",
        "print(y_test.shape)   # (num_samples_test,)"
      ],
      "metadata": {
        "id": "awDosp69TCiF",
        "colab": {
          "base_uri": "https://localhost:8080/"
        },
        "outputId": "a106ceb1-ee64-4c1c-9609-8c4055a42ac2"
      },
      "execution_count": null,
      "outputs": [
        {
          "output_type": "stream",
          "name": "stdout",
          "text": [
            "(3392, 6)\n",
            "(3392, 1)\n",
            "(260, 6)\n",
            "(260, 1)\n",
            "(259, 6)\n",
            "(259, 1)\n"
          ]
        }
      ]
    },
    {
      "cell_type": "code",
      "source": [
        "# Convert y_train, y_val, and y_test to 1D NumPy arrays\n",
        "y_train = y_train.ravel()  # or y_train.squeeze()\n",
        "y_val = y_val.ravel()      # or y_val.squeeze()\n",
        "y_test = y_test.ravel()    # or y_test.squeeze()"
      ],
      "metadata": {
        "id": "4dhKFg-KT-UK"
      },
      "execution_count": null,
      "outputs": []
    },
    {
      "cell_type": "code",
      "source": [
        "!pip install tqdm\n",
        "from tqdm import tqdm"
      ],
      "metadata": {
        "colab": {
          "base_uri": "https://localhost:8080/"
        },
        "id": "Qj_04PJSUXEo",
        "outputId": "8e5e906d-aaa6-4095-d2dc-e6e5d9e48095"
      },
      "execution_count": null,
      "outputs": [
        {
          "output_type": "stream",
          "name": "stdout",
          "text": [
            "Requirement already satisfied: tqdm in /usr/local/lib/python3.11/dist-packages (4.67.1)\n"
          ]
        }
      ]
    },
    {
      "cell_type": "markdown",
      "source": [
        "### <font color='pink'> From Scratch Implementation of Naive Bayes"
      ],
      "metadata": {
        "id": "Wb1doxaMlc8O"
      }
    },
    {
      "cell_type": "code",
      "source": [
        "import numpy as np\n",
        "\n",
        "class NaiveBayesClassifier:\n",
        "    def __init__(self):\n",
        "        # Initialize dictionaries to store prior probabilities and likelihoods\n",
        "        self.prior_prob = {}  # Prior probabilities for each class\n",
        "        self.likelihoods = {}  # Likelihoods for feature values given each class\n",
        "\n",
        "    def fit(self, X, y):\n",
        "        # Identify unique classes and number of features from the training data\n",
        "        self.classes = np.unique(y)  # Unique class labels\n",
        "        self.num_features = X.shape[1]  # Number of features\n",
        "\n",
        "        # Compute prior probabilities based on class frequencies p(C)\n",
        "        self.prior_prob = self._calculate_prior_probabilities(y)\n",
        "\n",
        "        # Compute likelihoods for each feature value given each class p(x|C)\n",
        "        self.likelihoods = self._calculate_likelihoods(X, y)\n",
        "\n",
        "    def _calculate_prior_probabilities(self, y):\n",
        "        # Calculate prior probabilities of each class\n",
        "        classes, counts = np.unique(y, return_counts=True)  # Get unique classes and their counts\n",
        "        total_count = len(y)  # Total number of samples\n",
        "        # Compute prior probability for each class and return as a dictionary\n",
        "        return dict(zip(classes, counts / total_count))\n",
        "\n",
        "    def _calculate_likelihoods(self, X, y):\n",
        "        # Initialize a dictionary to store likelihoods for each class and feature\n",
        "        likelihoods = {cls: {i: {} for i in range(self.num_features)} for cls in self.classes}\n",
        "\n",
        "        for cls in tqdm(self.classes):\n",
        "            # Filter the training data for the current class\n",
        "            X_cls = X[y == cls]\n",
        "            num_cls = X_cls.shape[0]  # Number of samples for this class\n",
        "\n",
        "            for feature_idx in range(self.num_features):\n",
        "                # Calculate feature value counts and their probabilities within this class\n",
        "                feature_values, counts = np.unique(X_cls[:, feature_idx], return_counts=True)\n",
        "                # Store the likelihoods as a dictionary of feature values and their probabilities\n",
        "                likelihoods[cls][feature_idx] = dict(zip(feature_values, counts / num_cls))\n",
        "\n",
        "        return likelihoods\n",
        "\n",
        "    def predict(self, X):\n",
        "        # List to store the predicted class for each sample\n",
        "        predictions = []\n",
        "\n",
        "        for x in X:\n",
        "            # Initialize scores for each class with the log of the prior probability\n",
        "            class_scores = {cls: np.log(prior) for cls, prior in self.prior_prob.items()}\n",
        "\n",
        "            for cls in self.classes:\n",
        "                for feature_idx, value in enumerate(x):\n",
        "                    # Get the likelihoods of the feature value given the class\n",
        "                    feature_likelihoods = self.likelihoods[cls].get(feature_idx, {})\n",
        "                    # Update the class score by adding the log of the feature likelihood\n",
        "                    # Use a small value (1e-10) if the feature value was not seen during training\n",
        "                    class_scores[cls] += np.log(feature_likelihoods.get(value, 1e-10))\n",
        "\n",
        "            # Predict the class with the highest score\n",
        "            predicted_class = max(class_scores, key=class_scores.get)\n",
        "            predictions.append(predicted_class)\n",
        "\n",
        "        return np.array(predictions)"
      ],
      "metadata": {
        "id": "9d2-MaosP0as"
      },
      "execution_count": null,
      "outputs": []
    },
    {
      "cell_type": "markdown",
      "source": [
        "### <font color='pink'> Train and Test Results of Custom NB"
      ],
      "metadata": {
        "id": "O0lf5FqklmgO"
      }
    },
    {
      "cell_type": "code",
      "source": [
        "import numpy as np\n",
        "from sklearn.metrics import accuracy_score\n",
        "\n",
        "# Initialize the custom Naive Bayes classifier\n",
        "nb_classifier = NaiveBayesClassifier()\n",
        "\n",
        "# Fit the model on the training data\n",
        "nb_classifier.fit(X_train, y_train)\n",
        "\n",
        "# Validate the model using the validation set\n",
        "y_val_pred = nb_classifier.predict(X_val)\n",
        "val_accuracy = accuracy_score(y_val, y_val_pred)\n",
        "print(f\"Validation Accuracy: {val_accuracy:.2f}\")"
      ],
      "metadata": {
        "colab": {
          "base_uri": "https://localhost:8080/"
        },
        "id": "0uyRHTB0QBP1",
        "outputId": "d7391a24-2694-4f9e-8a7d-59dde5e22393"
      },
      "execution_count": null,
      "outputs": [
        {
          "output_type": "stream",
          "name": "stderr",
          "text": [
            "100%|██████████| 4/4 [00:00<00:00, 2233.98it/s]"
          ]
        },
        {
          "output_type": "stream",
          "name": "stdout",
          "text": [
            "Validation Accuracy: 0.84\n"
          ]
        },
        {
          "output_type": "stream",
          "name": "stderr",
          "text": [
            "\n"
          ]
        }
      ]
    },
    {
      "cell_type": "code",
      "source": [
        "from sklearn.metrics import confusion_matrix, classification_report\n",
        "# Make predictions on the test set\n",
        "y_test_pred = nb_classifier.predict(X_test)\n",
        "print(len(y_test_pred))"
      ],
      "metadata": {
        "id": "iporCB8eU2LZ",
        "outputId": "dd8bf6aa-33ab-47bb-9c2b-4bc6559b378d",
        "colab": {
          "base_uri": "https://localhost:8080/"
        }
      },
      "execution_count": null,
      "outputs": [
        {
          "output_type": "stream",
          "name": "stdout",
          "text": [
            "259\n"
          ]
        }
      ]
    },
    {
      "cell_type": "code",
      "source": [
        "# Generate confusion matrix\n",
        "cm = confusion_matrix(y_test, y_test_pred, labels=nb_classifier.classes)\n",
        "\n",
        "# Convert class labels to strings if they are numeric\n",
        "class_names = [str(cls) for cls in nb_classifier.classes]\n",
        "\n",
        "# Generate classification report\n",
        "report = classification_report(y_test, y_test_pred)\n",
        "\n",
        "# Print confusion matrix\n",
        "print(\"Confusion Matrix:\")\n",
        "print(cm)\n",
        "\n",
        "# Print classification report\n",
        "print(\"\\nClassification Report:\")\n",
        "print(report)\n",
        "\n",
        "# Plotting confusion matrix\n",
        "plt.figure(figsize=(4, 3))\n",
        "sns.heatmap(cm, annot=True, fmt='d', cmap='Blues', xticklabels=nb_classifier.classes, yticklabels=nb_classifier.classes)\n",
        "plt.xlabel('Predicted Label')\n",
        "plt.ylabel('True Label')\n",
        "plt.title('Confusion Matrix')\n",
        "plt.show()"
      ],
      "metadata": {
        "colab": {
          "base_uri": "https://localhost:8080/",
          "height": 645
        },
        "id": "BTeZUTfnVeEy",
        "outputId": "4e8886d3-58b7-4c05-fbe3-901489b4928d"
      },
      "execution_count": null,
      "outputs": [
        {
          "output_type": "stream",
          "name": "stdout",
          "text": [
            "Confusion Matrix:\n",
            "[[ 57   5   0   4]\n",
            " [  0   3   0   2]\n",
            " [ 21   1 156   0]\n",
            " [  0   0   0  10]]\n",
            "\n",
            "Classification Report:\n",
            "              precision    recall  f1-score   support\n",
            "\n",
            "           0       0.73      0.86      0.79        66\n",
            "           1       0.33      0.60      0.43         5\n",
            "           2       1.00      0.88      0.93       178\n",
            "           3       0.62      1.00      0.77        10\n",
            "\n",
            "    accuracy                           0.87       259\n",
            "   macro avg       0.67      0.84      0.73       259\n",
            "weighted avg       0.90      0.87      0.88       259\n",
            "\n"
          ]
        },
        {
          "output_type": "display_data",
          "data": {
            "text/plain": [
              "<Figure size 400x300 with 2 Axes>"
            ],
            "image/png": "[encoded data removed]"
          },
          "metadata": {}
        }
      ]
    },
    {
      "cell_type": "code",
      "source": [
        "from sklearn.preprocessing import label_binarize\n",
        "from sklearn.metrics import roc_curve, roc_auc_score, precision_recall_curve, average_precision_score\n",
        "\n",
        "# Binarize the output for ROC\n",
        "y_test_binarized = label_binarize(y_test, classes=np.unique(y_test))  # one-hot encoding\n",
        "y_pred_prob = label_binarize(y_test_pred, classes=np.unique(y_test_pred))\n",
        "n_classes = y_test_binarized.shape[1] # 4\n",
        "# ROC curve and ROC AUC score\n",
        "fpr = dict()\n",
        "tpr = dict()\n",
        "roc_auc = dict()\n",
        "for i in range(n_classes):\n",
        "    fpr[i], tpr[i], _ = roc_curve(y_test_binarized[:, i], y_pred_prob[:, i])\n",
        "    roc_auc[i] = roc_auc_score(y_test_binarized[:, i], y_pred_prob[:, i])\n",
        "\n",
        "print(\"FPR: \", fpr)\n",
        "print(\"\\n\")\n",
        "\n",
        "print(\"TPR: \", tpr)\n",
        "print(\"\\n\")\n",
        "\n",
        "print(\"ROC_AUC: \", roc_auc)\n",
        "print(\"\\n\")\n",
        "\n",
        "# Plot ROC curves for each class\n",
        "plt.figure()\n",
        "colors = ['blue', 'green', 'red','yellow']\n",
        "for i, color in zip(range(n_classes), colors):\n",
        "    plt.plot(fpr[i], tpr[i], color=color, lw=2, label=f'ROC curve (class {i}) (area = {roc_auc[i]:.2f})')\n",
        "plt.plot([0, 1], [0, 1], color='black', lw=2, linestyle='--')\n",
        "plt.xlim([0.0, 1.0])\n",
        "plt.ylim([0.0, 1.05])\n",
        "plt.xlabel('False Positive Rate')\n",
        "plt.ylabel('True Positive Rate')\n",
        "plt.title('Receiver Operating Characteristic (ROC)')\n",
        "plt.legend(loc='lower right')\n",
        "plt.show()"
      ],
      "metadata": {
        "colab": {
          "base_uri": "https://localhost:8080/",
          "height": 628
        },
        "id": "2N4BWvXy13R0",
        "outputId": "ec15b4f7-e9d9-4298-f63a-894fe5cc0adb"
      },
      "execution_count": null,
      "outputs": [
        {
          "output_type": "stream",
          "name": "stdout",
          "text": [
            "FPR:  {0: array([0.        , 0.10880829, 1.        ]), 1: array([0.        , 0.02362205, 1.        ]), 2: array([0., 0., 1.]), 3: array([0.        , 0.02409639, 1.        ])}\n",
            "\n",
            "\n",
            "TPR:  {0: array([0.        , 0.86363636, 1.        ]), 1: array([0. , 0.6, 1. ]), 2: array([0.        , 0.87640449, 1.        ]), 3: array([0., 1., 1.])}\n",
            "\n",
            "\n",
            "ROC_AUC:  {0: np.float64(0.8774140367404617), 1: np.float64(0.7881889763779528), 2: np.float64(0.9382022471910112), 3: np.float64(0.9879518072289157)}\n",
            "\n",
            "\n"
          ]
        },
        {
          "output_type": "display_data",
          "data": {
            "text/plain": [
              "<Figure size 640x480 with 1 Axes>"
            ],
            "image/png": "[encoded data removed]"
          },
          "metadata": {}
        }
      ]
    },
    {
      "cell_type": "markdown",
      "source": [
        "### <font color='pink'> Sklearn's Categorical Naive Bayes"
      ],
      "metadata": {
        "id": "3KnSgXwylSuj"
      }
    },
    {
      "cell_type": "code",
      "source": [
        "#CategoricalNB classifier from ScikitLearn Library\n",
        "from sklearn.naive_bayes import CategoricalNB"
      ],
      "metadata": {
        "id": "C66R2731wxsN"
      },
      "execution_count": null,
      "outputs": []
    },
    {
      "cell_type": "code",
      "source": [
        "# Initialize the CategoricalNB classifier\n",
        "cat_nb_classifier = CategoricalNB()  # fit_prior = True by default\n",
        "\n",
        "# Fit the model on the training data\n",
        "cat_nb_classifier.fit(X_train, y_train)\n",
        "\n",
        "# Make predictions on the test set\n",
        "y_test_pred = cat_nb_classifier.predict(X_test)\n",
        "\n",
        "# Evaluate the model\n",
        "accuracy = accuracy_score(y_test, y_test_pred)\n",
        "print(f\"Accuracy: {accuracy:.2f}\")"
      ],
      "metadata": {
        "colab": {
          "base_uri": "https://localhost:8080/"
        },
        "id": "UKPc7L_vxMab",
        "outputId": "f6ade0d4-9762-49e1-d647-b2886319b7b8"
      },
      "execution_count": null,
      "outputs": [
        {
          "output_type": "stream",
          "name": "stdout",
          "text": [
            "Accuracy: 0.87\n"
          ]
        }
      ]
    },
    {
      "cell_type": "code",
      "source": [
        "# Generate confusion matrix\n",
        "cm = confusion_matrix(y_test, y_test_pred, labels=cat_nb_classifier.classes_)\n",
        "\n",
        "# Convert class labels to strings if they are numeric\n",
        "class_names = [str(cls) for cls in cat_nb_classifier.classes_]\n",
        "\n",
        "# Generate classification report\n",
        "report = classification_report(y_test, y_test_pred, target_names=class_names)\n",
        "\n",
        "# Print confusion matrix\n",
        "print(\"Confusion Matrix:\")\n",
        "print(cm)\n",
        "\n",
        "# Print classification report\n",
        "print(\"\\nClassification Report:\")\n",
        "print(report)\n",
        "\n",
        "# Plotting confusion matrix\n",
        "plt.figure(figsize=(4, 3))\n",
        "sns.heatmap(cm, annot=True, fmt='d', cmap='Blues', xticklabels=class_names, yticklabels=class_names)\n",
        "plt.xlabel('Predicted Label')\n",
        "plt.ylabel('True Label')\n",
        "plt.title('Confusion Matrix')\n",
        "plt.show()"
      ],
      "metadata": {
        "colab": {
          "base_uri": "https://localhost:8080/",
          "height": 645
        },
        "id": "pWZGt-_nxS7i",
        "outputId": "53a40f45-294a-45f5-9f9b-3d2aaf8c635a"
      },
      "execution_count": null,
      "outputs": [
        {
          "output_type": "stream",
          "name": "stdout",
          "text": [
            "Confusion Matrix:\n",
            "[[ 56   5   0   5]\n",
            " [  0   3   0   2]\n",
            " [ 21   1 156   0]\n",
            " [  0   0   0  10]]\n",
            "\n",
            "Classification Report:\n",
            "              precision    recall  f1-score   support\n",
            "\n",
            "           0       0.73      0.85      0.78        66\n",
            "           1       0.33      0.60      0.43         5\n",
            "           2       1.00      0.88      0.93       178\n",
            "           3       0.59      1.00      0.74        10\n",
            "\n",
            "    accuracy                           0.87       259\n",
            "   macro avg       0.66      0.83      0.72       259\n",
            "weighted avg       0.90      0.87      0.88       259\n",
            "\n"
          ]
        },
        {
          "output_type": "display_data",
          "data": {
            "text/plain": [
              "<Figure size 400x300 with 2 Axes>"
            ],
            "image/png": "[encoded data removed]"
          },
          "metadata": {}
        }
      ]
    },
    {
      "cell_type": "markdown",
      "source": [
        "### <font color =\"pink\"> Custom Naive Bayes Using Kernel Density Estimation (KDE)"
      ],
      "metadata": {
        "id": "3kIYlMh8JQ9R"
      }
    },
    {
      "cell_type": "code",
      "source": [
        "from scipy.stats import norm\n",
        "\n",
        "data = np.array([1.2, 1.8, 3.5, 3.8, 4.1])\n",
        "x_range = np.linspace(0, 6, 200)\n",
        "bandwidth = 0.5\n",
        "\n",
        "kernels = []\n",
        "for point in data:\n",
        "    kernel = norm.pdf(x_range, point, bandwidth)\n",
        "    kernels.append(kernel)\n",
        "    plt.plot(x_range, kernel, color='lightgray', linestyle='--')\n",
        "summed_kernels = np.sum(kernels, axis=0)\n",
        "plt.plot(x_range, summed_kernels, color='green', label='Sum of Individual Kernels')\n",
        "sns.kdeplot(x=data, bw_adjust=bandwidth, color='red', label='Seaborn KDE')\n",
        "plt.plot(data, np.zeros_like(data), 'o', color='blue', label='Original Data Points')\n",
        "plt.title('Visualization of KDE from Individual Kernels')\n",
        "plt.xlabel('Data Values')\n",
        "plt.ylabel('Density')\n",
        "plt.legend()\n",
        "plt.show()"
      ],
      "metadata": {
        "colab": {
          "base_uri": "https://localhost:8080/",
          "height": 472
        },
        "id": "LoHIDgJXNep7",
        "outputId": "bcc09145-996f-4a98-da75-5ee6f7ff3ca9"
      },
      "execution_count": null,
      "outputs": [
        {
          "output_type": "display_data",
          "data": {
            "text/plain": [
              "<Figure size 640x480 with 1 Axes>"
            ],
            "image/png": "[encoded data removed]"
          },
          "metadata": {}
        }
      ]
    },
    {
      "cell_type": "code",
      "source": [
        "from sklearn.neighbors import KernelDensity\n",
        "\n",
        "# parameters for KDE\n",
        "kde_kernel = 'gaussian'\n",
        "kde_bandwidth = 0.2 # this is a crucial parameter\n",
        "\n",
        "# first we calculate the priors\n",
        "classes = np.unique(y_train)\n",
        "class_priors = {}\n",
        "for c in classes:\n",
        "  class_priors[c] = np.mean(y_train == c)\n",
        "\n",
        "# create a dictionary where keys are classes and values are lists of KDE models (one per feature)\n",
        "KDE_per_class_feature = {}\n",
        "for c in classes:\n",
        "  KDE_per_class_feature[c] = []\n",
        "  x_c = X_train[y_train == c]\n",
        "  for i in range(x_c.shape[1]): # iterating over features\n",
        "    # KernelDensity expects a 2D array (n_samples, n_features)\n",
        "    kde = KernelDensity(kernel=kde_kernel, bandwidth=kde_bandwidth).fit(x_c[:, i].reshape(-1, 1))\n",
        "    KDE_per_class_feature[c].append(kde)\n",
        "\n",
        "\n",
        "y_pred_KDE = []\n",
        "for i in range(X_test.shape[0]):\n",
        "  sample = X_test[i]\n",
        "  log_prob_per_class = []\n",
        "  for c in classes:\n",
        "    # log of the class prior P(C)\n",
        "    class_log_prior = np.log(class_priors[c])\n",
        "    feature_log_likelihoods = 0.0\n",
        "    # sum the log likelihoods for each feature given the class P(X_j | C)\n",
        "    for j in range(sample.shape[0]):\n",
        "      # score_samples returns the log-likelihood of each sample under the KDE model\n",
        "      feature_log_likelihoods += KDE_per_class_feature[c][j].score_samples(sample[j].reshape(-1, 1))[0]\n",
        "\n",
        "    # total log probability is log(P(C)) + sum(log(P(X_j|C)))\n",
        "    log_prob_per_class.append(class_log_prior + feature_log_likelihoods)\n",
        "\n",
        "  # predict the class with the highest log probability\n",
        "  predicted_class_index = np.argmax(log_prob_per_class)\n",
        "  y_pred_KDE.append(classes[np.argmax(log_prob_per_class)])\n",
        "\n",
        "y_pred_KDE = np.array(y_pred_KDE)\n",
        "\n",
        "# Evaluate the model\n",
        "accuracy_kde = accuracy_score(y_test, y_pred_KDE)\n",
        "print(f\"KDE Naive Bayes Accuracy (bandwidth={kde_bandwidth}): {accuracy_kde:.2f}\")\n"
      ],
      "metadata": {
        "colab": {
          "base_uri": "https://localhost:8080/"
        },
        "id": "issjqn8PJaFB",
        "outputId": "06a026db-4b41-47d0-d5a0-475ab4e3f74f"
      },
      "execution_count": null,
      "outputs": [
        {
          "output_type": "stream",
          "name": "stdout",
          "text": [
            "KDE Naive Bayes Accuracy (bandwidth=0.2): 0.87\n"
          ]
        }
      ]
    },
    {
      "cell_type": "code",
      "source": [
        "# Generate confusion matrix\n",
        "cm = confusion_matrix(y_test, y_pred_KDE, labels=cat_nb_classifier.classes_)\n",
        "\n",
        "# Convert class labels to strings if they are numeric\n",
        "class_names = [str(cls) for cls in cat_nb_classifier.classes_]\n",
        "\n",
        "# Generate classification report\n",
        "report = classification_report(y_test, y_pred_KDE, target_names=class_names)\n",
        "\n",
        "# Print confusion matrix\n",
        "print(\"Confusion Matrix:\")\n",
        "print(cm)\n",
        "\n",
        "# Print classification report\n",
        "print(\"\\nClassification Report:\")\n",
        "print(report)\n",
        "\n",
        "# Plotting confusion matrix\n",
        "plt.figure(figsize=(4, 3))\n",
        "sns.heatmap(cm, annot=True, fmt='d', cmap='Blues', xticklabels=class_names, yticklabels=class_names)\n",
        "plt.xlabel('Predicted Label')\n",
        "plt.ylabel('True Label')\n",
        "plt.title('Confusion Matrix')\n",
        "plt.show()"
      ],
      "metadata": {
        "id": "xpWQtp29Q8Kt",
        "outputId": "d296d7ef-c919-47a5-f9ba-38f686942a87",
        "colab": {
          "base_uri": "https://localhost:8080/",
          "height": 645
        }
      },
      "execution_count": null,
      "outputs": [
        {
          "output_type": "stream",
          "name": "stdout",
          "text": [
            "Confusion Matrix:\n",
            "[[ 57   5   0   4]\n",
            " [  0   3   0   2]\n",
            " [ 21   1 156   0]\n",
            " [  0   0   0  10]]\n",
            "\n",
            "Classification Report:\n",
            "              precision    recall  f1-score   support\n",
            "\n",
            "           0       0.73      0.86      0.79        66\n",
            "           1       0.33      0.60      0.43         5\n",
            "           2       1.00      0.88      0.93       178\n",
            "           3       0.62      1.00      0.77        10\n",
            "\n",
            "    accuracy                           0.87       259\n",
            "   macro avg       0.67      0.84      0.73       259\n",
            "weighted avg       0.90      0.87      0.88       259\n",
            "\n"
          ]
        },
        {
          "output_type": "display_data",
          "data": {
            "text/plain": [
              "<Figure size 400x300 with 2 Axes>"
            ],
            "image/png": "[encoded data removed]"
          },
          "metadata": {}
        }
      ]
    },
    {
      "cell_type": "markdown",
      "source": [
        "# Assignment 3"
      ],
      "metadata": {
        "id": "S0xWTDbibeII"
      }
    },
    {
      "cell_type": "markdown",
      "source": [
        "### <font color = \"orange\"> Q1. Load the texture dataset from OpenML: https://www.openml.org/search?type=data&sort=version&status=any&order=asc&exact_name=texture&id=40499 (1 Mark)"
      ],
      "metadata": {
        "id": "R_-STJkRbnif"
      }
    },
    {
      "cell_type": "code",
      "source": [],
      "metadata": {
        "id": "uHHo_-N-bflT"
      },
      "execution_count": null,
      "outputs": []
    },
    {
      "cell_type": "markdown",
      "source": [
        "### <font color = \"orange\"> Q2. Show the class distribution of the dataset and state whether the dataset is well balanced or not. (2 Marks)"
      ],
      "metadata": {
        "id": "q6OzD46ibr7P"
      }
    },
    {
      "cell_type": "code",
      "source": [],
      "metadata": {
        "id": "rQd0iflHbx_w"
      },
      "execution_count": null,
      "outputs": []
    },
    {
      "cell_type": "markdown",
      "source": [
        "### <font color = \"orange\"> Q3. Split the dataset into training and test sets (80%-20%) (1 Marks)"
      ],
      "metadata": {
        "id": "l7N9KaLhbyUA"
      }
    },
    {
      "cell_type": "code",
      "source": [],
      "metadata": {
        "id": "VBTzFBwdb5VQ"
      },
      "execution_count": null,
      "outputs": []
    },
    {
      "cell_type": "markdown",
      "source": [
        "### <font color = \"orange\">Q4. Scale the features of the dataset appropriately such that all the features take values in the same range. (2 Marks)"
      ],
      "metadata": {
        "id": "RcLAFGGrb5kL"
      }
    },
    {
      "cell_type": "code",
      "source": [],
      "metadata": {
        "id": "RlDF0NgPcPc_"
      },
      "execution_count": null,
      "outputs": []
    },
    {
      "cell_type": "markdown",
      "source": [
        "### <font color = \"orange\">Q5. Design a Gaussian Naive Bayes’ (NB) classifier and fit it on the training set (6 Marks)"
      ],
      "metadata": {
        "id": "LEHL9bNMcPvX"
      }
    },
    {
      "cell_type": "code",
      "source": [],
      "metadata": {
        "id": "ikETT1iicYMX"
      },
      "execution_count": null,
      "outputs": []
    },
    {
      "cell_type": "markdown",
      "source": [
        "### <font color = \"orange\">Q6. Evaluate the test set using the Gaussian NB classifier you learned from the training data and report the performance in terms of accuracy, precision, recall and confusion matrix. (2 Marks)"
      ],
      "metadata": {
        "id": "9pieLnLncYfr"
      }
    },
    {
      "cell_type": "code",
      "source": [],
      "metadata": {
        "id": "v78UZ0jtcfDH"
      },
      "execution_count": null,
      "outputs": []
    },
    {
      "cell_type": "markdown",
      "source": [
        "### <font color = \"orange\">Q7. Using scikit-learn's implementation of Gaussian NB classifier, fit the training data. (4 Marks)"
      ],
      "metadata": {
        "id": "rsRJ3yu6cmDw"
      }
    },
    {
      "cell_type": "code",
      "source": [],
      "metadata": {
        "id": "HTPyGFQ-coRG"
      },
      "execution_count": null,
      "outputs": []
    },
    {
      "cell_type": "markdown",
      "source": [
        "### <font color=\"orange\">Q8. Evaluate the scikit-learn's Gaussian NB model on the test set. How does the performance of this model compare with your custom implementation? (2 Marks)"
      ],
      "metadata": {
        "id": "TnpsnCiJcohQ"
      }
    },
    {
      "cell_type": "code",
      "source": [],
      "metadata": {
        "id": "92h-XAn9cwBg"
      },
      "execution_count": null,
      "outputs": []
    }
  ]
}